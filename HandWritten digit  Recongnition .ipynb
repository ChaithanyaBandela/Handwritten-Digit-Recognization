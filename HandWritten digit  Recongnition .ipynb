{
 "cells": [
  {
   "cell_type": "markdown",
   "id": "4d9b3982",
   "metadata": {},
   "source": [
    "# Screen capture"
   ]
  },
  {
   "cell_type": "code",
   "execution_count": 2,
   "id": "2df45934",
   "metadata": {},
   "outputs": [],
   "source": [
    "import pyscreenshot as ImageGrab"
   ]
  },
  {
   "cell_type": "code",
   "execution_count": 3,
   "id": "de1b0713",
   "metadata": {},
   "outputs": [
    {
     "name": "stdout",
     "output_type": "stream",
     "text": [
      "Requirement already satisfied: pyscreenshot in c:\\users\\chathanya\\anaconda3\\lib\\site-packages (3.1)\n",
      "Requirement already satisfied: entrypoint2 in c:\\users\\chathanya\\anaconda3\\lib\\site-packages (from pyscreenshot) (1.1)\n",
      "Requirement already satisfied: mss in c:\\users\\chathanya\\anaconda3\\lib\\site-packages (from pyscreenshot) (10.0.0)\n",
      "Requirement already satisfied: EasyProcess in c:\\users\\chathanya\\anaconda3\\lib\\site-packages (from pyscreenshot) (1.1)\n",
      "Note: you may need to restart the kernel to use updated packages.\n"
     ]
    }
   ],
   "source": [
    "pip install pyscreenshot"
   ]
  },
  {
   "cell_type": "code",
   "execution_count": 4,
   "id": "e1ec866e",
   "metadata": {},
   "outputs": [],
   "source": [
    "def one_time():\n",
    "    import pyscreenshot as ImageGrab\n",
    "    import time\n",
    "    images_folder=\"captured_images/1/\"\n",
    "    for i in range(0,100):\n",
    "        time.sleep(8)\n",
    "        im=ImageGrab.grab(bbox=(60,170,400,550))\n",
    "        print(\"saved...\",i)\n",
    "        im.save(images_folder+str(i)+\".png\")\n",
    "        print(\"clear screen now and redraw now\")"
   ]
  },
  {
   "cell_type": "code",
   "execution_count": 5,
   "id": "39223f73",
   "metadata": {},
   "outputs": [],
   "source": [
    "#Generate Dataset"
   ]
  },
  {
   "cell_type": "code",
   "execution_count": 6,
   "id": "11440c97",
   "metadata": {},
   "outputs": [],
   "source": [
    "import cv2\n",
    "import csv\n",
    "import glob\n",
    "\n",
    "header=[\"label\"]\n",
    "for i in range(0,784):\n",
    "    header.append(\"pixel\"+str(i))\n",
    "with open('dataset.csv', 'a') as f:\n",
    "    writer = csv.writer(f)\n",
    "    writer.writerow(header)\n",
    "for label in range(10):\n",
    "    dirList = glob.glob(\"captured_images/\"+str(label)+\"/*.png\")\n",
    "    for img_path in dirList:\n",
    "        im= cv2.imread(img_path)\n",
    "        im_gray = cv2.cvtColor(im,cv2.COLOR_BGR2GRAY)\n",
    "        im_gray = cv2.GaussianBlur(im_gray,(15,15), 0)\n",
    "        roi= cv2.resize(im_gray,(28,28), interpolation=cv2.INTER_AREA)\n",
    "       \n",
    "        data=[]\n",
    "        data.append(label)\n",
    "        rows, cols = roi.shape\n",
    "       \n",
    "       ## Fill the data array with pixels one by one.\n",
    "        for i in range(rows):\n",
    "            for j in range(cols):\n",
    "                k =roi[i,j]\n",
    "                if k>100:\n",
    "                    k=1\n",
    "                else:\n",
    "                    k=0\n",
    "                data.append(k)\n",
    "        with open('dataset.csv', 'a') as f:\n",
    "            writer = csv.writer(f)\n",
    "            writer.writerow(data)"
   ]
  },
  {
   "cell_type": "code",
   "execution_count": 7,
   "id": "1ff0472e",
   "metadata": {},
   "outputs": [
    {
     "name": "stdout",
     "output_type": "stream",
     "text": [
      "     label pixel0 pixel1 pixel2 pixel3 pixel4 pixel5 pixel6 pixel7 pixel8  \\\n",
      "639      6      0      0      0      0      0      0      0      0      0   \n",
      "929      9      0      0      0      0      0      0      0      0      0   \n",
      "2941     8      1      1      1      1      1      1      1      1      1   \n",
      "2597     5      1      1      1      1      1      1      1      1      1   \n",
      "1996     9      1      1      1      1      1      1      1      1      1   \n",
      "...    ...    ...    ...    ...    ...    ...    ...    ...    ...    ...   \n",
      "2966     8      1      1      1      1      1      1      1      1      1   \n",
      "767      7      0      0      0      0      0      0      0      0      0   \n",
      "1576     4      1      1      1      1      1      1      1      1      1   \n",
      "2428     3      1      1      1      1      1      1      1      1      1   \n",
      "1481     3      1      1      1      1      1      1      1      1      1   \n",
      "\n",
      "      ... pixel774 pixel775 pixel776 pixel777 pixel778 pixel779 pixel780  \\\n",
      "639   ...        0        0        0        0        0        0        0   \n",
      "929   ...        0        0        0        0        0        0        0   \n",
      "2941  ...        0        0        0        0        0        0        0   \n",
      "2597  ...        0        0        0        0        0        0        0   \n",
      "1996  ...        0        0        0        0        0        0        0   \n",
      "...   ...      ...      ...      ...      ...      ...      ...      ...   \n",
      "2966  ...        0        0        0        0        0        0        0   \n",
      "767   ...        1        0        0        0        0        0        0   \n",
      "1576  ...        1        1        0        0        0        0        0   \n",
      "2428  ...        0        0        0        0        0        0        0   \n",
      "1481  ...        0        0        0        0        0        0        0   \n",
      "\n",
      "     pixel781 pixel782 pixel783  \n",
      "639         0        0        0  \n",
      "929         0        0        0  \n",
      "2941        0        0        0  \n",
      "2597        0        0        0  \n",
      "1996        0        0        0  \n",
      "...       ...      ...      ...  \n",
      "2966        0        0        0  \n",
      "767         0        0        0  \n",
      "1576        0        0        0  \n",
      "2428        0        0        0  \n",
      "1481        0        0        0  \n",
      "\n",
      "[3088 rows x 785 columns]\n"
     ]
    }
   ],
   "source": [
    "import pandas as pd #pip install pandas\n",
    "from sklearn.utils import shuffle #pip install scikit-learn\n",
    "#0,....,1.....,2.....\n",
    "#5,3,1,0,2,5,.......\n",
    "\n",
    "\n",
    "data = pd.read_csv('dataset.csv',low_memory=False)\n",
    "data = shuffle(data)\n",
    "print(data)"
   ]
  },
  {
   "cell_type": "code",
   "execution_count": 8,
   "id": "a75e80f7",
   "metadata": {},
   "outputs": [],
   "source": [
    "X = data.drop([\"label\"],axis=1)\n",
    "Y= data[\"label\"]"
   ]
  },
  {
   "cell_type": "code",
   "execution_count": 19,
   "id": "b55d2905",
   "metadata": {},
   "outputs": [],
   "source": [
    "# X = data.iloc[:, 1:].astype(float)  # all pixel columns as float\n",
    "# Y = data.iloc[:, 0]  # label column"
   ]
  },
  {
   "cell_type": "code",
   "execution_count": 10,
   "id": "55ebd471",
   "metadata": {},
   "outputs": [
    {
     "name": "stdout",
     "output_type": "stream",
     "text": [
      "3\n"
     ]
    },
    {
     "data": {
      "text/plain": [
       "<matplotlib.image.AxesImage at 0x2347fbaadc0>"
      ]
     },
     "execution_count": 10,
     "metadata": {},
     "output_type": "execute_result"
    },
    {
     "data": {
      "image/png": "[encoded data removed]",
      "text/plain": [
       "<Figure size 640x480 with 1 Axes>"
      ]
     },
     "metadata": {},
     "output_type": "display_data"
    }
   ],
   "source": [
    "%matplotlib inline\n",
    "import matplotlib.pyplot as plt\n",
    "import cv2\n",
    "idx = 314\n",
    "img = X.loc[idx].astype(float).values.reshape(28,28)\n",
    "print(Y[idx])\n",
    "plt.imshow(img,cmap='pink')"
   ]
  },
  {
   "cell_type": "code",
   "execution_count": 11,
   "id": "48210dc0",
   "metadata": {},
   "outputs": [],
   "source": [
    "from sklearn.model_selection import train_test_split\n",
    "train_x,test_x,train_y,test_y = train_test_split(X,Y, test_size = 0.2)"
   ]
  },
  {
   "cell_type": "code",
   "execution_count": 4,
   "id": "1a3a2959",
   "metadata": {},
   "outputs": [
    {
     "data": {
      "text/plain": [
       "['model/digit_recognizer.pkl']"
      ]
     },
     "execution_count": 4,
     "metadata": {},
     "output_type": "execute_result"
    }
   ],
   "source": [
    "import pandas as pd\n",
    "from sklearn.model_selection import train_test_split\n",
    "from sklearn.svm import SVC\n",
    "from sklearn import metrics\n",
    "import joblib\n",
    "\n",
    "data = pd.read_csv(\"dataset.csv\",low_memory=False)\n",
    "\n",
    "# Ensure the data has no header row inside the data (sometimes happens when writing multiple times)\n",
    "data = data[data[\"label\"] != \"label\"]  # remove any rows that are still headers\n",
    "\n",
    "# Convert all values to numeric (they may be strings)\n",
    "data = data.apply(pd.to_numeric)\n",
    "\n",
    "# Step 2: Split into features and labels\n",
    "X = data.drop(\"label\", axis=1)\n",
    "Y = data[\"label\"]\n",
    "\n",
    "# Step 3: Train/test split\n",
    "train_x, test_x, train_y, test_y = train_test_split(X, Y, test_size=0.2, random_state=42)\n",
    "\n",
    "# Step 4: Train the classifier\n",
    "classifier = SVC(kernel=\"linear\", random_state=6)\n",
    "classifier.fit(train_x, train_y)\n",
    "\n",
    "# Step 5: Save the model\n",
    "joblib.dump(classifier, \"model/digit_recognizer.pkl\")"
   ]
  },
  {
   "cell_type": "code",
   "execution_count": 5,
   "id": "2bd27cf7",
   "metadata": {},
   "outputs": [
    {
     "name": "stdout",
     "output_type": "stream",
     "text": [
      "Accuracy=  0.9789303079416531\n"
     ]
    }
   ],
   "source": [
    "from sklearn import metrics\n",
    "prediction=classifier.predict(test_x)\n",
    "print(\"Accuracy= \",metrics.accuracy_score(prediction, test_y))"
   ]
  },
  {
   "cell_type": "code",
   "execution_count": null,
   "id": "79b28f30",
   "metadata": {},
   "outputs": [
    {
     "name": "stderr",
     "output_type": "stream",
     "text": [
      "C:\\Users\\CHATHANYA\\anaconda3\\lib\\site-packages\\sklearn\\base.py:493: UserWarning: X does not have valid feature names, but SVC was fitted with feature names\n",
      "  warnings.warn(\n"
     ]
    },
    {
     "name": "stdout",
     "output_type": "stream",
     "text": [
      "Prediction: 7\n"
     ]
    },
    {
     "name": "stderr",
     "output_type": "stream",
     "text": [
      "C:\\Users\\CHATHANYA\\anaconda3\\lib\\site-packages\\sklearn\\base.py:493: UserWarning: X does not have valid feature names, but SVC was fitted with feature names\n",
      "  warnings.warn(\n"
     ]
    },
    {
     "name": "stdout",
     "output_type": "stream",
     "text": [
      "Prediction: 1\n"
     ]
    },
    {
     "name": "stderr",
     "output_type": "stream",
     "text": [
      "C:\\Users\\CHATHANYA\\anaconda3\\lib\\site-packages\\sklearn\\base.py:493: UserWarning: X does not have valid feature names, but SVC was fitted with feature names\n",
      "  warnings.warn(\n"
     ]
    },
    {
     "name": "stdout",
     "output_type": "stream",
     "text": [
      "Prediction: 2\n"
     ]
    },
    {
     "name": "stderr",
     "output_type": "stream",
     "text": [
      "C:\\Users\\CHATHANYA\\anaconda3\\lib\\site-packages\\sklearn\\base.py:493: UserWarning: X does not have valid feature names, but SVC was fitted with feature names\n",
      "  warnings.warn(\n"
     ]
    },
    {
     "name": "stdout",
     "output_type": "stream",
     "text": [
      "Prediction: 3\n"
     ]
    },
    {
     "name": "stderr",
     "output_type": "stream",
     "text": [
      "C:\\Users\\CHATHANYA\\anaconda3\\lib\\site-packages\\sklearn\\base.py:493: UserWarning: X does not have valid feature names, but SVC was fitted with feature names\n",
      "  warnings.warn(\n"
     ]
    },
    {
     "name": "stdout",
     "output_type": "stream",
     "text": [
      "Prediction: 4\n"
     ]
    },
    {
     "name": "stderr",
     "output_type": "stream",
     "text": [
      "C:\\Users\\CHATHANYA\\anaconda3\\lib\\site-packages\\sklearn\\base.py:493: UserWarning: X does not have valid feature names, but SVC was fitted with feature names\n",
      "  warnings.warn(\n"
     ]
    },
    {
     "name": "stdout",
     "output_type": "stream",
     "text": [
      "Prediction: 1\n"
     ]
    },
    {
     "name": "stderr",
     "output_type": "stream",
     "text": [
      "C:\\Users\\CHATHANYA\\anaconda3\\lib\\site-packages\\sklearn\\base.py:493: UserWarning: X does not have valid feature names, but SVC was fitted with feature names\n",
      "  warnings.warn(\n"
     ]
    },
    {
     "name": "stdout",
     "output_type": "stream",
     "text": [
      "Prediction: 5\n"
     ]
    },
    {
     "name": "stderr",
     "output_type": "stream",
     "text": [
      "C:\\Users\\CHATHANYA\\anaconda3\\lib\\site-packages\\sklearn\\base.py:493: UserWarning: X does not have valid feature names, but SVC was fitted with feature names\n",
      "  warnings.warn(\n"
     ]
    },
    {
     "name": "stdout",
     "output_type": "stream",
     "text": [
      "Prediction: 1\n"
     ]
    },
    {
     "name": "stderr",
     "output_type": "stream",
     "text": [
      "C:\\Users\\CHATHANYA\\anaconda3\\lib\\site-packages\\sklearn\\base.py:493: UserWarning: X does not have valid feature names, but SVC was fitted with feature names\n",
      "  warnings.warn(\n"
     ]
    },
    {
     "name": "stdout",
     "output_type": "stream",
     "text": [
      "Prediction: 1\n"
     ]
    },
    {
     "name": "stderr",
     "output_type": "stream",
     "text": [
      "C:\\Users\\CHATHANYA\\anaconda3\\lib\\site-packages\\sklearn\\base.py:493: UserWarning: X does not have valid feature names, but SVC was fitted with feature names\n",
      "  warnings.warn(\n"
     ]
    },
    {
     "name": "stdout",
     "output_type": "stream",
     "text": [
      "Prediction: 1\n"
     ]
    },
    {
     "name": "stderr",
     "output_type": "stream",
     "text": [
      "C:\\Users\\CHATHANYA\\anaconda3\\lib\\site-packages\\sklearn\\base.py:493: UserWarning: X does not have valid feature names, but SVC was fitted with feature names\n",
      "  warnings.warn(\n"
     ]
    },
    {
     "name": "stdout",
     "output_type": "stream",
     "text": [
      "Prediction: 5\n"
     ]
    },
    {
     "name": "stderr",
     "output_type": "stream",
     "text": [
      "C:\\Users\\CHATHANYA\\anaconda3\\lib\\site-packages\\sklearn\\base.py:493: UserWarning: X does not have valid feature names, but SVC was fitted with feature names\n",
      "  warnings.warn(\n"
     ]
    },
    {
     "name": "stdout",
     "output_type": "stream",
     "text": [
      "Prediction: 0\n"
     ]
    },
    {
     "name": "stderr",
     "output_type": "stream",
     "text": [
      "C:\\Users\\CHATHANYA\\anaconda3\\lib\\site-packages\\sklearn\\base.py:493: UserWarning: X does not have valid feature names, but SVC was fitted with feature names\n",
      "  warnings.warn(\n"
     ]
    },
    {
     "name": "stdout",
     "output_type": "stream",
     "text": [
      "Prediction: 1\n"
     ]
    },
    {
     "name": "stderr",
     "output_type": "stream",
     "text": [
      "C:\\Users\\CHATHANYA\\anaconda3\\lib\\site-packages\\sklearn\\base.py:493: UserWarning: X does not have valid feature names, but SVC was fitted with feature names\n",
      "  warnings.warn(\n"
     ]
    },
    {
     "name": "stdout",
     "output_type": "stream",
     "text": [
      "Prediction: 1\n"
     ]
    },
    {
     "name": "stderr",
     "output_type": "stream",
     "text": [
      "C:\\Users\\CHATHANYA\\anaconda3\\lib\\site-packages\\sklearn\\base.py:493: UserWarning: X does not have valid feature names, but SVC was fitted with feature names\n",
      "  warnings.warn(\n"
     ]
    },
    {
     "name": "stdout",
     "output_type": "stream",
     "text": [
      "Prediction: 1\n"
     ]
    },
    {
     "name": "stderr",
     "output_type": "stream",
     "text": [
      "C:\\Users\\CHATHANYA\\anaconda3\\lib\\site-packages\\sklearn\\base.py:493: UserWarning: X does not have valid feature names, but SVC was fitted with feature names\n",
      "  warnings.warn(\n"
     ]
    },
    {
     "name": "stdout",
     "output_type": "stream",
     "text": [
      "Prediction: 1\n"
     ]
    },
    {
     "name": "stderr",
     "output_type": "stream",
     "text": [
      "C:\\Users\\CHATHANYA\\anaconda3\\lib\\site-packages\\sklearn\\base.py:493: UserWarning: X does not have valid feature names, but SVC was fitted with feature names\n",
      "  warnings.warn(\n"
     ]
    },
    {
     "name": "stdout",
     "output_type": "stream",
     "text": [
      "Prediction: 1\n"
     ]
    },
    {
     "name": "stderr",
     "output_type": "stream",
     "text": [
      "C:\\Users\\CHATHANYA\\anaconda3\\lib\\site-packages\\sklearn\\base.py:493: UserWarning: X does not have valid feature names, but SVC was fitted with feature names\n",
      "  warnings.warn(\n"
     ]
    },
    {
     "name": "stdout",
     "output_type": "stream",
     "text": [
      "Prediction: 1\n"
     ]
    },
    {
     "name": "stderr",
     "output_type": "stream",
     "text": [
      "C:\\Users\\CHATHANYA\\anaconda3\\lib\\site-packages\\sklearn\\base.py:493: UserWarning: X does not have valid feature names, but SVC was fitted with feature names\n",
      "  warnings.warn(\n"
     ]
    },
    {
     "name": "stdout",
     "output_type": "stream",
     "text": [
      "Prediction: 7\n"
     ]
    },
    {
     "name": "stderr",
     "output_type": "stream",
     "text": [
      "C:\\Users\\CHATHANYA\\anaconda3\\lib\\site-packages\\sklearn\\base.py:493: UserWarning: X does not have valid feature names, but SVC was fitted with feature names\n",
      "  warnings.warn(\n"
     ]
    },
    {
     "name": "stdout",
     "output_type": "stream",
     "text": [
      "Prediction: 7\n"
     ]
    },
    {
     "name": "stderr",
     "output_type": "stream",
     "text": [
      "C:\\Users\\CHATHANYA\\anaconda3\\lib\\site-packages\\sklearn\\base.py:493: UserWarning: X does not have valid feature names, but SVC was fitted with feature names\n",
      "  warnings.warn(\n"
     ]
    },
    {
     "name": "stdout",
     "output_type": "stream",
     "text": [
      "Prediction: 8\n"
     ]
    },
    {
     "name": "stderr",
     "output_type": "stream",
     "text": [
      "C:\\Users\\CHATHANYA\\anaconda3\\lib\\site-packages\\sklearn\\base.py:493: UserWarning: X does not have valid feature names, but SVC was fitted with feature names\n",
      "  warnings.warn(\n"
     ]
    },
    {
     "name": "stdout",
     "output_type": "stream",
     "text": [
      "Prediction: 8\n"
     ]
    },
    {
     "name": "stderr",
     "output_type": "stream",
     "text": [
      "C:\\Users\\CHATHANYA\\anaconda3\\lib\\site-packages\\sklearn\\base.py:493: UserWarning: X does not have valid feature names, but SVC was fitted with feature names\n",
      "  warnings.warn(\n"
     ]
    },
    {
     "name": "stdout",
     "output_type": "stream",
     "text": [
      "Prediction: 5\n"
     ]
    },
    {
     "name": "stderr",
     "output_type": "stream",
     "text": [
      "C:\\Users\\CHATHANYA\\anaconda3\\lib\\site-packages\\sklearn\\base.py:493: UserWarning: X does not have valid feature names, but SVC was fitted with feature names\n",
      "  warnings.warn(\n"
     ]
    },
    {
     "name": "stdout",
     "output_type": "stream",
     "text": [
      "Prediction: 8\n"
     ]
    },
    {
     "name": "stderr",
     "output_type": "stream",
     "text": [
      "C:\\Users\\CHATHANYA\\anaconda3\\lib\\site-packages\\sklearn\\base.py:493: UserWarning: X does not have valid feature names, but SVC was fitted with feature names\n",
      "  warnings.warn(\n"
     ]
    },
    {
     "name": "stdout",
     "output_type": "stream",
     "text": [
      "Prediction: 5\n"
     ]
    },
    {
     "name": "stderr",
     "output_type": "stream",
     "text": [
      "C:\\Users\\CHATHANYA\\anaconda3\\lib\\site-packages\\sklearn\\base.py:493: UserWarning: X does not have valid feature names, but SVC was fitted with feature names\n",
      "  warnings.warn(\n"
     ]
    },
    {
     "name": "stdout",
     "output_type": "stream",
     "text": [
      "Prediction: 4\n"
     ]
    },
    {
     "name": "stderr",
     "output_type": "stream",
     "text": [
      "C:\\Users\\CHATHANYA\\anaconda3\\lib\\site-packages\\sklearn\\base.py:493: UserWarning: X does not have valid feature names, but SVC was fitted with feature names\n",
      "  warnings.warn(\n"
     ]
    },
    {
     "name": "stdout",
     "output_type": "stream",
     "text": [
      "Prediction: 8\n"
     ]
    },
    {
     "name": "stderr",
     "output_type": "stream",
     "text": [
      "C:\\Users\\CHATHANYA\\anaconda3\\lib\\site-packages\\sklearn\\base.py:493: UserWarning: X does not have valid feature names, but SVC was fitted with feature names\n",
      "  warnings.warn(\n"
     ]
    },
    {
     "name": "stdout",
     "output_type": "stream",
     "text": [
      "Prediction: 8\n"
     ]
    },
    {
     "name": "stderr",
     "output_type": "stream",
     "text": [
      "C:\\Users\\CHATHANYA\\anaconda3\\lib\\site-packages\\sklearn\\base.py:493: UserWarning: X does not have valid feature names, but SVC was fitted with feature names\n",
      "  warnings.warn(\n"
     ]
    },
    {
     "name": "stdout",
     "output_type": "stream",
     "text": [
      "Prediction: 5\n"
     ]
    },
    {
     "name": "stderr",
     "output_type": "stream",
     "text": [
      "C:\\Users\\CHATHANYA\\anaconda3\\lib\\site-packages\\sklearn\\base.py:493: UserWarning: X does not have valid feature names, but SVC was fitted with feature names\n",
      "  warnings.warn(\n"
     ]
    },
    {
     "name": "stdout",
     "output_type": "stream",
     "text": [
      "Prediction: 5\n"
     ]
    },
    {
     "name": "stderr",
     "output_type": "stream",
     "text": [
      "C:\\Users\\CHATHANYA\\anaconda3\\lib\\site-packages\\sklearn\\base.py:493: UserWarning: X does not have valid feature names, but SVC was fitted with feature names\n",
      "  warnings.warn(\n"
     ]
    },
    {
     "name": "stdout",
     "output_type": "stream",
     "text": [
      "Prediction: 5\n"
     ]
    },
    {
     "name": "stderr",
     "output_type": "stream",
     "text": [
      "C:\\Users\\CHATHANYA\\anaconda3\\lib\\site-packages\\sklearn\\base.py:493: UserWarning: X does not have valid feature names, but SVC was fitted with feature names\n",
      "  warnings.warn(\n"
     ]
    }
   ],
   "source": [
    "#prediction of image drawn in paint\n",
    " \n",
    "import joblib\n",
    "import cv2\n",
    "import numpy as np #pip install numpy\n",
    "import time\n",
    "import pyscreenshot as ImageGrab\n",
    " \n",
    "model=joblib.load(\"model/digit_recognizer.pkl\")\n",
    "images_folder=\"img/\"\n",
    " \n",
    "while True:\n",
    "    img=ImageGrab.grab(bbox=(60,170,400,500))\n",
    "    img.save(images_folder+\"img.png\")\n",
    "    im = cv2.imread(images_folder+\"img.png\")\n",
    "    im_gray = cv2.cvtColor(im,cv2.COLOR_BGR2GRAY)\n",
    "    im_gray  =cv2.GaussianBlur(im_gray, (15,15), 0)\n",
    "   \n",
    "   #Threshold the image\n",
    "    ret, im_th = cv2.threshold(im_gray,100, 255, cv2.THRESH_BINARY)\n",
    "    roi = cv2.resize(im_th, (28,28), interpolation  =cv2.INTER_AREA)\n",
    "   \n",
    "    rows,cols=roi.shape\n",
    "   \n",
    "    X = []\n",
    "   \n",
    "   ##  Fill the data array with pixels one by one.\n",
    "    for i in range(rows):\n",
    "        for j in range(cols):\n",
    "            k = roi[i,j]\n",
    "            if k>100:\n",
    "                k=1\n",
    "            else:\n",
    "                k=0\n",
    "            X.append(k)\n",
    "           \n",
    "    predictions  =model.predict([X])\n",
    "    print(\"Prediction:\",predictions[0])\n",
    "    cv2.putText(im, \"Prediction is: \"+str(predictions[0]), (20,20), 0, 0.8,(0,255,0),2,cv2.LINE_AA)\n",
    "   \n",
    "    cv2.startWindowThread()\n",
    "    cv2.namedWindow(\"Result\")\n",
    "    cv2.imshow(\"Result\",im)\n",
    "    cv2.waitKey(10000)\n",
    "    if cv2.waitKey(1)==13: #27 is the ascii value of esc, 13 is the ascii value of enter\n",
    "        break\n",
    "cv2.destroyAllWindows()"
   ]
  },
  {
   "cell_type": "code",
   "execution_count": null,
   "id": "52ef0873",
   "metadata": {},
   "outputs": [],
   "source": []
  },
  {
   "cell_type": "code",
   "execution_count": 1,
   "id": "bef2a50f",
   "metadata": {},
   "outputs": [],
   "source": []
  },
  {
   "cell_type": "code",
   "execution_count": null,
   "id": "990e52f3",
   "metadata": {},
   "outputs": [],
   "source": []
  }
 ],
 "metadata": {
  "kernelspec": {
   "display_name": "Python 3 (ipykernel)",
   "language": "python",
   "name": "python3"
  },
  "language_info": {
   "codemirror_mode": {
    "name": "ipython",
    "version": 3
   },
   "file_extension": ".py",
   "mimetype": "text/x-python",
   "name": "python",
   "nbconvert_exporter": "python",
   "pygments_lexer": "ipython3",
   "version": "3.9.13"
  }
 },
 "nbformat": 4,
 "nbformat_minor": 5
}
